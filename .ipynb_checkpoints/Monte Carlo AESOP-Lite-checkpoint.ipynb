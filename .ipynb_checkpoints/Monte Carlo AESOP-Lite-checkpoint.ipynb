{
 "cells": [
  {
   "cell_type": "markdown",
   "id": "a7aeefd0",
   "metadata": {},
   "source": [
    "# Monte Carlo Simulation of Scintillator and PMT for AESOP-Lite"
   ]
  },
  {
   "cell_type": "markdown",
   "id": "57d4d109",
   "metadata": {},
   "source": [
    "### By Liam Branch and Robert Johnson"
   ]
  },
  {
   "cell_type": "code",
   "execution_count": 3,
   "id": "5f2b19b7",
   "metadata": {},
   "outputs": [],
   "source": [
    "import numpy as np\n",
    "import pandas as pd\n",
    "import matplotlib.pyplot as plt\n",
    "import random"
   ]
  },
  {
   "cell_type": "markdown",
   "id": "fcc414af",
   "metadata": {},
   "source": [
    "### Links\n",
    "- [Simple ray tracing](https://medium.com/swlh/ray-tracing-from-scratch-in-python-41670e6a96f9)\n",
    "-[2D intersection circle](https://www.geometrictools.com/Documentation/IntersectionLine2Circle2.pdf)\n",
    "- [3D intersection sphere](https://math.stackexchange.com/questions/2247498/intersection-of-ray-with-circle-in-3d-subject-to-endpoint-and-orientation-constr)\n",
    "- [3D ray sphere v2](https://math.stackexchange.com/questions/70196/whats-the-distance-between-a-ray-and-a-sphere)\n",
    "- [Chords on a circle](https://en.wikipedia.org/wiki/Chord_(geometry))\n",
    "- [Fresnel equations](https://en.wikipedia.org/wiki/Fresnel_equations)\n",
    "\n",
    "PDF Datasheets\n",
    "- [Hamamatasu](hamamatsu.com/content/dam/hamamatsu-photonics/sites/documents/99_SALES_LIBRARY/etd/R2083_R3377_TPMH1227E.pdf)"
   ]
  },
  {
   "cell_type": "code",
   "execution_count": 45,
   "id": "fef9841c",
   "metadata": {},
   "outputs": [],
   "source": [
    "# Constants\n",
    "c = 0.0299792 # Speed of Light in cm / ps"
   ]
  },
  {
   "cell_type": "code",
   "execution_count": 46,
   "id": "d9d3889d",
   "metadata": {},
   "outputs": [],
   "source": [
    "scint_radius = 13. # cm\n",
    "width_pmt_window = 4 # cm\n",
    "length_pmt_window = 1 #cm\n",
    "width = width_pmt_window/2\n",
    "length = length_pmt_window\n",
    "theta_lim = np.arcsin(width/scint_radius)\n",
    "# Position of PMT\n",
    "x = width/np.tan(theta_lim) # thetax_0\n",
    "y = -width\n",
    "# Main Scintillator angles\n",
    "theta_scint = np.linspace(theta_lim,2*np.pi-theta_lim, 100)"
   ]
  },
  {
   "cell_type": "code",
   "execution_count": 47,
   "id": "e9fc1bf0",
   "metadata": {},
   "outputs": [],
   "source": [
    "# def distance_solver(v, point_pos, center, radius):\n",
    "#     print(\"v\",v,\"CP\",point_pos,\"radius\",radius)\n",
    "#     CP = center-point_pos\n",
    "#     OC = center # - (0,0)\n",
    "#     v = v*-1 if np.dot(v,CP) < 0 else v # make sure vectors v and OP are in same half space\\\n",
    "#     print(v)\n",
    "#     n = np.cross(v, CP,axisc=2)                 # orthogonal with plane of intersection points and line passing through center\n",
    "#     print(CP,v, \"n\",n)\n",
    "#     perp = normalize(np.cross(v, n)) if np.array(n).ndim > 2 else normalize(v*n)    # perp is parallel to line of intersection and orthogonal to v and n\n",
    "#     Q2P = OC-radius*perp\n",
    "#     cosalpha = np.dot(perp, normalize(Q2P))\n",
    "#     return np.sqrt(np.sum((radius*perp + (radius/cosalpha)*normalize(Q2P))**2))"
   ]
  },
  {
   "cell_type": "code",
   "execution_count": 48,
   "id": "55818ba4",
   "metadata": {},
   "outputs": [],
   "source": [
    "#nsin(theta) = n sin(theta)"
   ]
  },
  {
   "cell_type": "code",
   "execution_count": 49,
   "id": "b46e3398",
   "metadata": {},
   "outputs": [],
   "source": [
    "def normalize(x):\n",
    "    x /= np.linalg.norm(x)\n",
    "    return x\n",
    "def mag(x):\n",
    "    return np.linalg.norm(x)\n",
    "def distance_solver(u, o, center, radius):\n",
    "    P = o\n",
    "    D = u*-1 if np.dot(u,P) < 0 else u\n",
    "    C = center\n",
    "    R = radius\n",
    "    bigDelta = P-C\n",
    "    # t = -D . ∆ ± √(D . ∆)^2 - |D|^2(|∆|^2 - R^2)\n",
    "    #     over |D|^2\n",
    "    magDsq = mag(D)**2\n",
    "    magDeltasq = mag(bigDelta)**2\n",
    "    DdotDelta = np.dot(D,bigDelta)\n",
    "    sqrt_term = np.sqrt(DdotDelta**2 - magDsq * (magDeltasq - R**2))/magDsq\n",
    "    b_term = -DdotDelta/magDsq\n",
    "    rootA = b_term - sqrt_term\n",
    "    rootB = b_term + sqrt_term\n",
    "    return -rootA if (rootA < 0) & (np.dot(u,P) < 0) else (-rootB if np.dot(u,P) < 0 else rootB)\n",
    "\n",
    "def photon_interaction(u, n, E):\n",
    "    u_i = u\n",
    "    u_r = u - 2*np.dot(u, n)*n # u_new = u - 2 (u . n)*n\n",
    "    n_i = 1.5 # 1.85 for NaI\n",
    "    n_r = 1.5 # \n",
    "    n_t = 1.000293 # Sample index of refraction of air\n",
    "    R = ((n_i*u_i[0]-n_t*u_r[0])/(n_t+n_i))**2\n",
    "    E = R*E # energy loss n of photon using Reflectance\n",
    "    return u_r, E\n",
    "\n",
    "def scintillator_monte_carlo(o, x_pmt, E, scint_radius, N_max, dt):\n",
    "    print(f\"Starting position (x_0,y_0) = ({x:.2f},{y:.2f})\")\n",
    "    track_history = np.zeros((N_max,7))         # x, y history of Photon\n",
    "    theta = random.uniform(0,2*np.pi)           # first theta direction of photon\n",
    "    phi = random.unifom(0,np.pi)                # first phi   direction of photon\n",
    "    u = np.array([np.sin(theta)*np.cos(phi),np.sin(theta)*np.sin(phi),np.cos(theta)]) # first direction unit vector\n",
    "    track_history[0] = [x,y,u[0],u[1],E]\n",
    "    i = 1\n",
    "    while (i < N_max) & (o[0] < x_pmt) & (E > 0.1):\n",
    "        ds = distance_solver(u, o, np.zeros(2),scint_radius)\n",
    "        x, y, z = o+ds*u\n",
    "        dt = ds/c if ds>1e-9 else float('inf')  # time taken in ps traveling in direction theta\n",
    "        print(f\"step {i}: ds={ds:.2f}cm dt={dt:.2f}ps E={E:.2f} xy =({x:.2f},{y:.2f}) u=({u[0]:.2f},{u[1]:.2f})\")\n",
    "        o = np.array([x, y, z])\n",
    "        n = normalize(o-np.zeros(2))\n",
    "        u, E = photon_interaction(u, n, E)\n",
    "        track_history[i] = [x,y,z,u[0],u[1],u[2],E]\n",
    "        i+=1\n",
    "    if i < N_max:\n",
    "        track_history = track_history[:i+1,:]\n",
    "    return track_history"
   ]
  },
  {
   "cell_type": "code",
   "execution_count": 50,
   "id": "a2ba1f83",
   "metadata": {
    "scrolled": false
   },
   "outputs": [
    {
     "ename": "TypeError",
     "evalue": "scintillator_monte_carlo() got multiple values for argument 'x_pmt'",
     "output_type": "error",
     "traceback": [
      "\u001b[0;31m---------------------------------------------------------------------------\u001b[0m",
      "\u001b[0;31mTypeError\u001b[0m                                 Traceback (most recent call last)",
      "Cell \u001b[0;32mIn[50], line 10\u001b[0m\n\u001b[1;32m      8\u001b[0m pmt_window \u001b[38;5;241m=\u001b[39m plt\u001b[38;5;241m.\u001b[39mRectangle((x,y), length_pmt_window, width_pmt_window, fc\u001b[38;5;241m=\u001b[39m\u001b[38;5;124m'\u001b[39m\u001b[38;5;124mblue\u001b[39m\u001b[38;5;124m'\u001b[39m, alpha\u001b[38;5;241m=\u001b[39m\u001b[38;5;241m0.5\u001b[39m)\n\u001b[1;32m      9\u001b[0m ax0\u001b[38;5;241m.\u001b[39madd_patch(pmt_window)\n\u001b[0;32m---> 10\u001b[0m tracks \u001b[38;5;241m=\u001b[39m \u001b[43mscintillator_monte_carlo\u001b[49m\u001b[43m(\u001b[49m\u001b[43mrandom_track\u001b[49m\u001b[43m[\u001b[49m\u001b[38;5;241;43m0\u001b[39;49m\u001b[43m]\u001b[49m\u001b[43m,\u001b[49m\u001b[43mrandom_track\u001b[49m\u001b[43m[\u001b[49m\u001b[38;5;241;43m1\u001b[39;49m\u001b[43m]\u001b[49m\u001b[43m,\u001b[49m\u001b[43m \u001b[49m\u001b[43mx_pmt\u001b[49m\u001b[38;5;241;43m=\u001b[39;49m\u001b[43mx\u001b[49m\u001b[43m,\u001b[49m\u001b[43m \u001b[49m\u001b[43mE\u001b[49m\u001b[38;5;241;43m=\u001b[39;49m\u001b[38;5;241;43m100\u001b[39;49m\u001b[43m,\u001b[49m\u001b[43m \u001b[49m\u001b[43mscint_radius\u001b[49m\u001b[38;5;241;43m=\u001b[39;49m\u001b[38;5;241;43m10\u001b[39;49m\u001b[43m,\u001b[49m\u001b[43m \u001b[49m\u001b[43mN_max\u001b[49m\u001b[38;5;241;43m=\u001b[39;49m\u001b[38;5;241;43m20\u001b[39;49m\u001b[43m,\u001b[49m\u001b[43m \u001b[49m\u001b[43mdt\u001b[49m\u001b[38;5;241;43m=\u001b[39;49m\u001b[38;5;241;43m0.2\u001b[39;49m\u001b[43m)\u001b[49m\n\u001b[1;32m     11\u001b[0m ax0\u001b[38;5;241m.\u001b[39mquiver(tracks[:,\u001b[38;5;241m0\u001b[39m],tracks[:,\u001b[38;5;241m1\u001b[39m], tracks[:,\u001b[38;5;241m2\u001b[39m], tracks[:,\u001b[38;5;241m3\u001b[39m],scale\u001b[38;5;241m=\u001b[39m\u001b[38;5;241m10\u001b[39m)\n\u001b[1;32m     12\u001b[0m line \u001b[38;5;241m=\u001b[39m ax0\u001b[38;5;241m.\u001b[39mplot(tracks[:\u001b[38;5;241m-\u001b[39m\u001b[38;5;241m1\u001b[39m,\u001b[38;5;241m0\u001b[39m],tracks[:\u001b[38;5;241m-\u001b[39m\u001b[38;5;241m1\u001b[39m,\u001b[38;5;241m1\u001b[39m], alpha\u001b[38;5;241m=\u001b[39m\u001b[38;5;241m1\u001b[39m, color\u001b[38;5;241m=\u001b[39m\u001b[38;5;124m'\u001b[39m\u001b[38;5;124mC1\u001b[39m\u001b[38;5;124m'\u001b[39m, marker\u001b[38;5;241m=\u001b[39m\u001b[38;5;124m'\u001b[39m\u001b[38;5;124m.\u001b[39m\u001b[38;5;124m'\u001b[39m)\n",
      "\u001b[0;31mTypeError\u001b[0m: scintillator_monte_carlo() got multiple values for argument 'x_pmt'"
     ]
    },
    {
     "data": {
      "image/png": "[encoded data removed]",
      "text/plain": [
       "<Figure size 600x600 with 1 Axes>"
      ]
     },
     "metadata": {},
     "output_type": "display_data"
    }
   ],
   "source": [
    "# Plot\n",
    "fig0, ax0 = plt.subplots(figsize=(6,6))\n",
    "ax0.plot(scint_radius*np.cos(theta_scint), scint_radius*np.sin(theta_scint))\n",
    "r = random.uniform(0,2*np.pi)\n",
    "maxdist = np.random.random()*scint_radius\n",
    "random_track = (maxdist*np.cos(r), maxdist*np.sin(r)) # x, y\n",
    "ax0.scatter(random_track[0],random_track[1], color='red', marker='o')\n",
    "pmt_window = plt.Rectangle((x,y), length_pmt_window, width_pmt_window, fc='blue', alpha=0.5)\n",
    "ax0.add_patch(pmt_window)\n",
    "tracks = scintillator_monte_carlo(random_track[0],random_track[1], x_pmt=x, E=100, scint_radius=10, N_max=20, dt=0.2)\n",
    "ax0.quiver(tracks[:,0],tracks[:,1], tracks[:,2], tracks[:,3],scale=10)\n",
    "line = ax0.plot(tracks[:-1,0],tracks[:-1,1], alpha=1, color='C1', marker='.')\n",
    "ax0.grid(True)\n",
    "ax0.set_xlabel('x [cm]')\n",
    "ax0.set_ylabel('y [cm]')\n",
    "plt.show()"
   ]
  },
  {
   "cell_type": "markdown",
   "id": "b7faebc8",
   "metadata": {},
   "source": [
    "- Light tube add is very important for shape of scintilator\n",
    "- T1: 0.5cm, T4:1cm\n",
    "- find a mean free path and then at each mean calculate the random.poisson(mean) which is the time to the next scintillation\n",
    "- at the reflection there is a high chance of absorption -> figure out this probability based off of the properties of the scintillator --> fresnel's equation and white paint layer?\n",
    "- "
   ]
  },
  {
   "cell_type": "markdown",
   "id": "2c8f04e5",
   "metadata": {},
   "source": [
    "### PMT signal making"
   ]
  },
  {
   "cell_type": "code",
   "execution_count": 42,
   "id": "62b2c04e",
   "metadata": {},
   "outputs": [],
   "source": [
    "# Taken from c code resource\n",
    "def photoElectrons(photons, QE):\n",
    "    n = 0.\n",
    "    for i in range(photons):\n",
    "        if np.random.random()<QE:\n",
    "            n+=1\n",
    "    return n\n",
    "\n",
    "def meanDynodeElectrons(E):\n",
    "    E_per_Electron = 20\n",
    "    return E/E_per_Electron if E >= 0 else 0\n",
    "\n",
    "def genDynodeElectrons(E_incoming, E):\n",
    "    mean = E_incoming*meanDynodeElectrons(E)\n",
    "    return np.random.poisson(mean)\n",
    "\n",
    "def photontoElectrons(photons, voltages, QE, N):\n",
    "    e = photoElectrons(photons, QE)\n",
    "    prevV = 0.\n",
    "    for dynode in range(N):\n",
    "        delta_voltage = V[dynode] - prevV\n",
    "        e += genDynodeElectrons(e, delta_voltage)\n",
    "        prevV = V[dynode]\n",
    "    return e"
   ]
  },
  {
   "cell_type": "code",
   "execution_count": 43,
   "id": "14740820",
   "metadata": {},
   "outputs": [],
   "source": [
    "n_dynodes = 8\n",
    "V = np.linspace(150,850,n_dynodes)\n",
    "# V = [150,300,350,600,750,850]\n",
    "n_incident_photons = 10000\n",
    "QE = 0.82\n",
    "pmtSignal = []\n",
    "for photon in range(n_incident_photons):\n",
    "    e = photontoElectrons(1, V, QE, n_dynodes)\n",
    "    if e>1:\n",
    "        pmtSignal.append(e)"
   ]
  },
  {
   "cell_type": "code",
   "execution_count": 44,
   "id": "10c9f2df",
   "metadata": {},
   "outputs": [
    {
     "name": "stdout",
     "output_type": "stream",
     "text": [
      "Dynode Voltages = [150. 250. 350. 450. 550. 650. 750. 850.]\n"
     ]
    },
    {
     "data": {
      "image/png": "[encoded data removed]",
      "text/plain": [
       "<Figure size 600x600 with 1 Axes>"
      ]
     },
     "metadata": {},
     "output_type": "display_data"
    }
   ],
   "source": [
    "print(\"Dynode Voltages =\", V)\n",
    "fig1, ax1 = plt.subplots(figsize=(6,6))\n",
    "counts1, bins1 = np.histogram(pmtSignal, bins=40)\n",
    "logbins1 = np.logspace(np.log10(bins1[0]),np.log10(bins1[-1]),len(bins1))\n",
    "ax1.hist(pmtSignal, bins=100)\n",
    "ax1.set_title('Simulated PMT Signal')\n",
    "ax1.set_ylabel('Count')\n",
    "ax1.set_xlabel('#electrons')\n",
    "# ax1.set_xscale('log')\n",
    "# ax1.set_yscale('log')\n",
    "ax1.grid(True)\n",
    "plt.show()"
   ]
  },
  {
   "cell_type": "code",
   "execution_count": null,
   "id": "37b3719e",
   "metadata": {},
   "outputs": [],
   "source": []
  },
  {
   "cell_type": "code",
   "execution_count": null,
   "id": "af8255ce",
   "metadata": {},
   "outputs": [],
   "source": []
  }
 ],
 "metadata": {
  "kernelspec": {
   "display_name": "Python 3 (ipykernel)",
   "language": "python",
   "name": "python3"
  },
  "language_info": {
   "codemirror_mode": {
    "name": "ipython",
    "version": 3
   },
   "file_extension": ".py",
   "mimetype": "text/x-python",
   "name": "python",
   "nbconvert_exporter": "python",
   "pygments_lexer": "ipython3",
   "version": "3.9.12"
  }
 },
 "nbformat": 4,
 "nbformat_minor": 5
}
