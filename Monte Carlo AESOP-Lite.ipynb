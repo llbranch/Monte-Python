{
 "cells": [
  {
   "cell_type": "markdown",
   "id": "a7aeefd0",
   "metadata": {},
   "source": [
    "# Monte Carlo Simulation of Scintillator and PMT for AESOP-Lite"
   ]
  },
  {
   "cell_type": "markdown",
   "id": "57d4d109",
   "metadata": {},
   "source": [
    "### By Liam Branch and Robert Johnson"
   ]
  },
  {
   "cell_type": "code",
   "execution_count": 39,
   "id": "5f2b19b7",
   "metadata": {},
   "outputs": [],
   "source": [
    "import numpy as np\n",
    "import pandas as pd\n",
    "import matplotlib.pyplot as plt\n",
    "import random"
   ]
  },
  {
   "cell_type": "markdown",
   "id": "fcc414af",
   "metadata": {},
   "source": [
    "### Links\n",
    "- [Simple ray tracing](https://medium.com/swlh/ray-tracing-from-scratch-in-python-41670e6a96f9)\n",
    "[2D intersection circle](https://www.geometrictools.com/Documentation/IntersectionLine2Circle2.pdf)\n",
    "- [3D intersection sphere](https://math.stackexchange.com/questions/2247498/intersection-of-ray-with-circle-in-3d-subject-to-endpoint-and-orientation-constr)\n",
    "- [3D ray sphere v2](https://math.stackexchange.com/questions/70196/whats-the-distance-between-a-ray-and-a-sphere)\n",
    "- [Chords on a circle](https://en.wikipedia.org/wiki/Chord_(geometry))\n",
    "- [Fresnel equations](https://en.wikipedia.org/wiki/Fresnel_equations)"
   ]
  },
  {
   "cell_type": "code",
   "execution_count": 40,
   "id": "fef9841c",
   "metadata": {},
   "outputs": [],
   "source": [
    "# Constants\n",
    "c = 33.3564 # Speed of Light in cm / ps"
   ]
  },
  {
   "cell_type": "code",
   "execution_count": 41,
   "id": "d9d3889d",
   "metadata": {},
   "outputs": [],
   "source": [
    "scint_radius = 10. # cm\n",
    "width_pmt_window = 4 # cm\n",
    "length_pmt_window = 1 #cm\n",
    "width = width_pmt_window/2\n",
    "length = length_pmt_window\n",
    "theta_lim = np.arcsin(width/scint_radius)\n",
    "# Position of PMT\n",
    "x = width/np.tan(theta_lim) # thetax_0\n",
    "y = -width\n",
    "# Main Scintillator angles\n",
    "theta_scint = np.linspace(theta_lim,2*np.pi-theta_lim, 100)"
   ]
  },
  {
   "cell_type": "code",
   "execution_count": 217,
   "id": "e9fc1bf0",
   "metadata": {},
   "outputs": [],
   "source": [
    "def distance_solver(v, point_pos, center, radius):\n",
    "    print(\"v\",v,\"CP\",point_pos,\"radius\",radius)\n",
    "    CP = center-point_pos\n",
    "    OC = center # - (0,0)\n",
    "    v = v*-1 if np.dot(v,CP) < 0 else v # make sure vectors v and OP are in same half space\\\n",
    "    print(v)\n",
    "    n = np.cross(v, CP,axisc=2)                 # orthogonal with plane of intersection points and line passing through center\n",
    "    print(CP,v, \"n\",n)\n",
    "    perp = normalize(np.cross(v, n)) if np.array(n).ndim > 2 else normalize(v*n)    # perp is parallel to line of intersection and orthogonal to v and n\n",
    "    Q2P = OC-radius*perp\n",
    "    cosalpha = np.dot(perp, normalize(Q2P))\n",
    "    return np.sqrt(np.sum((radius*perp + (radius/cosalpha)*normalize(Q2P))**2))"
   ]
  },
  {
   "cell_type": "code",
   "execution_count": null,
   "id": "55818ba4",
   "metadata": {},
   "outputs": [],
   "source": []
  },
  {
   "cell_type": "code",
   "execution_count": 249,
   "id": "b46e3398",
   "metadata": {},
   "outputs": [],
   "source": [
    "def normalize(x):\n",
    "    x /= np.linalg.norm(x)\n",
    "    return x\n",
    "def distance_solver(v, point_pos, center, radius):\n",
    "    P = point_pos\n",
    "    print(np.dot(v,P))\n",
    "    D = v*-1 if np.dot(v,P) < 0 else v\n",
    "    C = center\n",
    "    R = radius\n",
    "    bigDelta = P-C\n",
    "    root = (-np.dot(D,bigDelta)-np.sqrt(np.dot(D,bigDelta)**2 - np.sqrt(D.dot(D))**2 * (np.sqrt(bigDelta.dot(bigDelta))**2 - R**2)))/np.sqrt(D.dot(D))**2\n",
    "    print(\"root\", root)\n",
    "    return np.linalg.norm(root)\n",
    "\n",
    "def photon_interaction(theta, cur_point, n_vec, E):\n",
    "    theta = np.arccos(np.dot((np.cos(theta),np.sin(theta)), n_vec))\n",
    "    print(f\"theta={theta/(np.pi):.2f}π\")\n",
    "    E-=0.1 # energy loss need to figure out\n",
    "    return theta, E\n",
    "\n",
    "def scintillator_monte_carlo(x, y, E, scint_radius, N_max, dt):\n",
    "    print(f\"Starting position (x_0,y_0) = ({x:.2f},{y:.2f})\")\n",
    "    track_history = np.zeros((N_max,4))     # x, y history of Photon\n",
    "    theta = random.uniform(0,2*np.pi)   # first direction of photon\n",
    "    i = 0\n",
    "    while i < N_max:\n",
    "        u = np.array([np.cos(theta),np.sin(theta)]) # direction unit vector\n",
    "        o = np.array([x, y])\n",
    "        ds = distance_solver(u, o, np.zeros(2),scint_radius)\n",
    "        track_history[i] = [x,y,u[0],u[1]]\n",
    "        x, y = o+ds*u\n",
    "        dt = c/ds if ds>1e-9 else float('inf')  # time taken in ps traveling in direction theta\n",
    "        print(f\"step {i}: theta={theta/(np.pi):.2f}π ds={ds:.2f} dt={dt:.2f} xy =({x:.2f},{y:.2f}) u=({u[0]:.2f},{u[1]:.2f})\")\n",
    "        i+=1\n",
    "        theta, E = photon_interaction(theta, u, normalize(o-u), E)\n",
    "    return track_history"
   ]
  },
  {
   "cell_type": "code",
   "execution_count": 250,
   "id": "a2ba1f83",
   "metadata": {
    "scrolled": false
   },
   "outputs": [
    {
     "name": "stdout",
     "output_type": "stream",
     "text": [
      "Starting position (x_0,y_0) = (-4.01,-0.72)\n",
      "4.02861130750749\n",
      "root -14.00892751744648\n",
      "step 0: theta=1.01π ds=14.01 dt=2.38 xy =(-18.02,-1.03) u=(-1.00,-0.02)\n",
      "theta=0.06π\n",
      "-17.85403442321046\n",
      "root -27.498745407674082\n",
      "step 1: theta=0.06π ds=27.50 dt=1.21 xy =(8.91,4.54) u=(0.98,0.20)\n",
      "theta=0.96π\n",
      "-8.192119362491312\n",
      "root -16.38423872498263\n",
      "step 2: theta=0.96π ds=16.38 dt=2.04 xy =(-7.32,6.82) u=(-0.99,0.14)\n",
      "theta=0.82π\n",
      "9.815913878285903\n",
      "root -19.631827756571806\n",
      "step 3: theta=0.82π ds=19.63 dt=1.70 xy =(-23.97,17.21) u=(-0.85,0.53)\n",
      "theta=0.07π\n",
      "-19.786061995606154\n",
      "root nan\n",
      "step 4: theta=0.07π ds=nan dt=inf xy =(nan,nan) u=(0.98,0.21)\n",
      "theta=0.74π\n"
     ]
    },
    {
     "name": "stderr",
     "output_type": "stream",
     "text": [
      "/tmp/ipykernel_108/1718545086.py:11: RuntimeWarning: invalid value encountered in sqrt\n",
      "  root = (-np.dot(D,bigDelta)-np.sqrt(np.dot(D,bigDelta)**2 - np.sqrt(D.dot(D))**2 * (np.sqrt(bigDelta.dot(bigDelta))**2 - R**2)))/np.sqrt(D.dot(D))**2\n"
     ]
    },
    {
     "data": {
      "image/png": "[encoded data removed]",
      "text/plain": [
       "<Figure size 600x600 with 1 Axes>"
      ]
     },
     "metadata": {},
     "output_type": "display_data"
    }
   ],
   "source": [
    "# Plot\n",
    "fig0, ax0 = plt.subplots(figsize=(6,6))\n",
    "ax0.plot(scint_radius*np.cos(theta_scint), scint_radius*np.sin(theta_scint))\n",
    "r = random.uniform(0,2*np.pi)\n",
    "maxdist = np.random.random()*scint_radius\n",
    "random_track = (maxdist*np.cos(r), maxdist*np.sin(r)) # x, y\n",
    "ax0.scatter(random_track[0],random_track[1], color='red', marker='o')\n",
    "pmt_window = plt.Rectangle((x,y), length_pmt_window, width_pmt_window, fc='blue', alpha=0.5)\n",
    "ax0.add_patch(pmt_window)\n",
    "tracks = scintillator_monte_carlo(random_track[0],random_track[1], E=100, scint_radius=10, N_max=5, dt=0.2)\n",
    "ax0.quiver(tracks[:,0],tracks[:,1], tracks[:,2], tracks[:,3],scale=10)\n",
    "ax0.plot(tracks[:,0],tracks[:,1], color='C1', marker='.')\n",
    "ax0.grid(True)\n",
    "plt.show()"
   ]
  },
  {
   "cell_type": "code",
   "execution_count": null,
   "id": "abe60704",
   "metadata": {},
   "outputs": [],
   "source": []
  },
  {
   "cell_type": "code",
   "execution_count": null,
   "id": "62b2c04e",
   "metadata": {},
   "outputs": [],
   "source": []
  }
 ],
 "metadata": {
  "kernelspec": {
   "display_name": "Python 3 (ipykernel)",
   "language": "python",
   "name": "python3"
  },
  "language_info": {
   "codemirror_mode": {
    "name": "ipython",
    "version": 3
   },
   "file_extension": ".py",
   "mimetype": "text/x-python",
   "name": "python",
   "nbconvert_exporter": "python",
   "pygments_lexer": "ipython3",
   "version": "3.8.9"
  }
 },
 "nbformat": 4,
 "nbformat_minor": 5
}
