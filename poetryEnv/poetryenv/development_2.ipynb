{
 "cells": [
  {
   "cell_type": "code",
   "execution_count": 1,
   "metadata": {},
   "outputs": [],
   "source": [
    "\"\"\" Imports \"\"\"\n",
    "import numpy as np\n",
    "import matplotlib.pyplot as plt\n",
    "import pandas as pd\n",
    "from scipy.signal import find_peaks\n",
    "import sys"
   ]
  },
  {
   "attachments": {},
   "cell_type": "markdown",
   "metadata": {},
   "source": [
    "# Manual Work - no automation"
   ]
  },
  {
   "cell_type": "code",
   "execution_count": 2,
   "metadata": {},
   "outputs": [],
   "source": [
    "\"\"\" Pull Data Manually \"\"\"\n",
    "ch1data = pd.read_csv(\"LtoutputFiles/output5ch1_05_03_2023.txt\", sep=\"\\t\")\n",
    "ch4data = pd.read_csv(\"LtoutputFiles/output5ch4_05_03_2023.txt\", sep=\"\\t\")"
   ]
  },
  {
   "cell_type": "code",
   "execution_count": 7,
   "metadata": {},
   "outputs": [],
   "source": [
    "\"\"\"\n",
    "Formatting \n",
    "- Name Columns \n",
    "- Create Data frame\n",
    "    - Quick plot: <dataframe>.plot()\n",
    "- Truncate: not needed (?)\n",
    "- Array assignment \n",
    "\"\"\"\n",
    "\n",
    "# Name columns \n",
    "ch1data.columns =[\"Time\", \"V(compout)-CH1\"]\n",
    "ch4data.columns =[\"Time\", \"V(compout)-CH4\"]\n",
    "\n",
    "# Create data frame \n",
    "ch1 = pd.DataFrame(ch1data)\n",
    "ch4 = pd.DataFrame(ch4data)\n",
    "\n",
    "# Check for shorter file and truncate \n",
    "#   - LTspice always outputs diferent length files \n",
    "\n",
    "# # print(f\"len ch1: {len(ch1)}\\nlen ch4: {len(ch4)}\")\n",
    "# if len(ch1) < len(ch4): \n",
    "#     ch1 = ch1.truncate(after=len(ch1)-1) # smallest less 1 bc `after` adds a value\n",
    "#     ch4 = ch4.truncate(after=len(ch1)-1)\n",
    "# else: \n",
    "#     ch1 = ch1.truncate(after=len(ch4)-1)\n",
    "#     ch4 = ch4.truncate(after=len(ch4)-1)\n",
    "# # print(f\"\\nTruncation:\\nlen ch1: {len(ch1)}\\nlen ch4: {len(ch4)}\")\n",
    "\n",
    "# Naming and floats\n",
    "ch1t = ch1[\"Time\"].to_numpy()\n",
    "ch4t = ch4[\"Time\"].to_numpy()\n",
    "ch1V = ch1[\"V(compout)-CH1\"].to_numpy()\n",
    "ch4V = ch4[\"V(compout)-CH4\"].to_numpy()"
   ]
  },
  {
   "cell_type": "code",
   "execution_count": null,
   "metadata": {},
   "outputs": [],
   "source": []
  }
 ],
 "metadata": {
  "kernelspec": {
   "display_name": ".venv",
   "language": "python",
   "name": "python3"
  },
  "language_info": {
   "codemirror_mode": {
    "name": "ipython",
    "version": 3
   },
   "file_extension": ".py",
   "mimetype": "text/x-python",
   "name": "python",
   "nbconvert_exporter": "python",
   "pygments_lexer": "ipython3",
   "version": "3.8.10"
  },
  "orig_nbformat": 4
 },
 "nbformat": 4,
 "nbformat_minor": 2
}
