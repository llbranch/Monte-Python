{
 "cells": [
  {
   "cell_type": "code",
   "execution_count": 58,
   "metadata": {},
   "outputs": [],
   "source": [
    "import numpy as np\n",
    "import matplotlib.pyplot as plt\n",
    "import pandas as pd\n",
    "from scipy.signal import find_peaks, peak_prominences, peak_widths"
   ]
  },
  {
   "cell_type": "code",
   "execution_count": 6,
   "metadata": {},
   "outputs": [
    {
     "data": {
      "text/html": [
       "<div>\n",
       "<style scoped>\n",
       "    .dataframe tbody tr th:only-of-type {\n",
       "        vertical-align: middle;\n",
       "    }\n",
       "\n",
       "    .dataframe tbody tr th {\n",
       "        vertical-align: top;\n",
       "    }\n",
       "\n",
       "    .dataframe thead th {\n",
       "        text-align: right;\n",
       "    }\n",
       "</style>\n",
       "<table border=\"1\" class=\"dataframe\">\n",
       "  <thead>\n",
       "    <tr style=\"text-align: right;\">\n",
       "      <th></th>\n",
       "      <th>Time</th>\n",
       "      <th>V(compout)</th>\n",
       "      <th>V(input)</th>\n",
       "      <th>V(out)</th>\n",
       "      <th>V(ref)</th>\n",
       "      <th>I(comp)</th>\n",
       "    </tr>\n",
       "  </thead>\n",
       "  <tbody>\n",
       "    <tr>\n",
       "      <th>0</th>\n",
       "      <td>0.000000e+00</td>\n",
       "      <td>0.141707</td>\n",
       "      <td>0.000290</td>\n",
       "      <td>-9.488106e-07</td>\n",
       "      <td>-0.01</td>\n",
       "      <td>-0.000003</td>\n",
       "    </tr>\n",
       "    <tr>\n",
       "      <th>1</th>\n",
       "      <td>4.290000e-10</td>\n",
       "      <td>0.141707</td>\n",
       "      <td>0.000290</td>\n",
       "      <td>-9.488106e-07</td>\n",
       "      <td>-0.01</td>\n",
       "      <td>-0.000003</td>\n",
       "    </tr>\n",
       "    <tr>\n",
       "      <th>2</th>\n",
       "      <td>4.290500e-10</td>\n",
       "      <td>0.141707</td>\n",
       "      <td>-0.000168</td>\n",
       "      <td>-9.488106e-07</td>\n",
       "      <td>-0.01</td>\n",
       "      <td>-0.000003</td>\n",
       "    </tr>\n",
       "    <tr>\n",
       "      <th>3</th>\n",
       "      <td>4.291500e-10</td>\n",
       "      <td>0.141707</td>\n",
       "      <td>-0.002109</td>\n",
       "      <td>-9.488106e-07</td>\n",
       "      <td>-0.01</td>\n",
       "      <td>-0.000003</td>\n",
       "    </tr>\n",
       "    <tr>\n",
       "      <th>4</th>\n",
       "      <td>4.293500e-10</td>\n",
       "      <td>0.141707</td>\n",
       "      <td>-0.009286</td>\n",
       "      <td>-9.488106e-07</td>\n",
       "      <td>-0.01</td>\n",
       "      <td>-0.000003</td>\n",
       "    </tr>\n",
       "  </tbody>\n",
       "</table>\n",
       "</div>"
      ],
      "text/plain": [
       "           Time  V(compout)  V(input)        V(out)  V(ref)   I(comp)\n",
       "0  0.000000e+00    0.141707  0.000290 -9.488106e-07   -0.01 -0.000003\n",
       "1  4.290000e-10    0.141707  0.000290 -9.488106e-07   -0.01 -0.000003\n",
       "2  4.290500e-10    0.141707 -0.000168 -9.488106e-07   -0.01 -0.000003\n",
       "3  4.291500e-10    0.141707 -0.002109 -9.488106e-07   -0.01 -0.000003\n",
       "4  4.293500e-10    0.141707 -0.009286 -9.488106e-07   -0.01 -0.000003"
      ]
     },
     "execution_count": 6,
     "metadata": {},
     "output_type": "execute_result"
    }
   ],
   "source": [
    "data = pd.read_csv('monte_carlo_outputTest.txt', sep=\"\\t\")\n",
    "data.columns =['Time', 'V(compout)', 'V(input)', 'V(out)', 'V(ref)', 'I(comp)']\n",
    "data.head()\n",
    "# data.plot()\n",
    "# plt.show()"
   ]
  },
  {
   "cell_type": "code",
   "execution_count": 7,
   "metadata": {},
   "outputs": [
    {
     "data": {
      "text/plain": [
       "array([[ 0.00000000e+00,  1.41706700e-01,  2.90274400e-04,\n",
       "        -9.48810600e-07, -1.00000000e-02, -3.47419000e-06],\n",
       "       [ 4.29000000e-10,  1.41706700e-01,  2.90274400e-04,\n",
       "        -9.48810600e-07, -1.00000000e-02, -3.47419000e-06],\n",
       "       [ 4.29050000e-10,  1.41706700e-01, -1.67800900e-04,\n",
       "        -9.48810600e-07, -1.00000000e-02, -3.43463200e-06],\n",
       "       ...,\n",
       "       [ 9.56339915e-06,  1.41706700e-01,  2.90280900e-04,\n",
       "         2.03810700e-05, -1.00000000e-02, -3.47419100e-06],\n",
       "       [ 1.04993991e-05,  1.41706700e-01,  2.90278700e-04,\n",
       "         5.11001900e-06, -1.00000000e-02, -3.47419100e-06],\n",
       "       [ 1.05000000e-05,  1.41706700e-01,  2.90278700e-04,\n",
       "         5.10224800e-06, -1.00000000e-02, -3.47419100e-06]])"
      ]
     },
     "execution_count": 7,
     "metadata": {},
     "output_type": "execute_result"
    }
   ],
   "source": [
    "data.to_numpy()"
   ]
  },
  {
   "cell_type": "code",
   "execution_count": 8,
   "metadata": {},
   "outputs": [
    {
     "data": {
      "text/html": [
       "<div>\n",
       "<style scoped>\n",
       "    .dataframe tbody tr th:only-of-type {\n",
       "        vertical-align: middle;\n",
       "    }\n",
       "\n",
       "    .dataframe tbody tr th {\n",
       "        vertical-align: top;\n",
       "    }\n",
       "\n",
       "    .dataframe thead th {\n",
       "        text-align: right;\n",
       "    }\n",
       "</style>\n",
       "<table border=\"1\" class=\"dataframe\">\n",
       "  <thead>\n",
       "    <tr style=\"text-align: right;\">\n",
       "      <th></th>\n",
       "      <th>Time</th>\n",
       "      <th>V(compout)</th>\n",
       "      <th>V(input)</th>\n",
       "      <th>V(out)</th>\n",
       "      <th>V(ref)</th>\n",
       "      <th>I(comp)</th>\n",
       "    </tr>\n",
       "  </thead>\n",
       "  <tbody>\n",
       "    <tr>\n",
       "      <th>count</th>\n",
       "      <td>8.150000e+02</td>\n",
       "      <td>815.000000</td>\n",
       "      <td>815.000000</td>\n",
       "      <td>8.150000e+02</td>\n",
       "      <td>8.150000e+02</td>\n",
       "      <td>8.150000e+02</td>\n",
       "    </tr>\n",
       "    <tr>\n",
       "      <th>mean</th>\n",
       "      <td>5.527524e-07</td>\n",
       "      <td>0.142784</td>\n",
       "      <td>-0.055173</td>\n",
       "      <td>1.324799e-04</td>\n",
       "      <td>-1.000000e-02</td>\n",
       "      <td>-1.178906e-06</td>\n",
       "    </tr>\n",
       "    <tr>\n",
       "      <th>std</th>\n",
       "      <td>1.721898e-06</td>\n",
       "      <td>0.006476</td>\n",
       "      <td>0.045567</td>\n",
       "      <td>3.595595e-04</td>\n",
       "      <td>1.735789e-18</td>\n",
       "      <td>1.537556e-06</td>\n",
       "    </tr>\n",
       "    <tr>\n",
       "      <th>min</th>\n",
       "      <td>0.000000e+00</td>\n",
       "      <td>0.141707</td>\n",
       "      <td>-0.169837</td>\n",
       "      <td>-1.262195e-06</td>\n",
       "      <td>-1.000000e-02</td>\n",
       "      <td>-3.759232e-06</td>\n",
       "    </tr>\n",
       "    <tr>\n",
       "      <th>25%</th>\n",
       "      <td>5.079500e-10</td>\n",
       "      <td>0.141707</td>\n",
       "      <td>-0.093911</td>\n",
       "      <td>-9.488106e-07</td>\n",
       "      <td>-1.000000e-02</td>\n",
       "      <td>-3.474191e-06</td>\n",
       "    </tr>\n",
       "    <tr>\n",
       "      <th>50%</th>\n",
       "      <td>2.709191e-09</td>\n",
       "      <td>0.141707</td>\n",
       "      <td>-0.060309</td>\n",
       "      <td>-9.488029e-07</td>\n",
       "      <td>-1.000000e-02</td>\n",
       "      <td>-8.791611e-08</td>\n",
       "    </tr>\n",
       "    <tr>\n",
       "      <th>75%</th>\n",
       "      <td>8.165045e-09</td>\n",
       "      <td>0.143308</td>\n",
       "      <td>0.000290</td>\n",
       "      <td>-9.487056e-07</td>\n",
       "      <td>-1.000000e-02</td>\n",
       "      <td>-6.460267e-09</td>\n",
       "    </tr>\n",
       "    <tr>\n",
       "      <th>max</th>\n",
       "      <td>1.050000e-05</td>\n",
       "      <td>0.245066</td>\n",
       "      <td>0.003861</td>\n",
       "      <td>1.541330e-03</td>\n",
       "      <td>-1.000000e-02</td>\n",
       "      <td>-1.137342e-10</td>\n",
       "    </tr>\n",
       "  </tbody>\n",
       "</table>\n",
       "</div>"
      ],
      "text/plain": [
       "               Time  V(compout)    V(input)        V(out)        V(ref)   \n",
       "count  8.150000e+02  815.000000  815.000000  8.150000e+02  8.150000e+02  \\\n",
       "mean   5.527524e-07    0.142784   -0.055173  1.324799e-04 -1.000000e-02   \n",
       "std    1.721898e-06    0.006476    0.045567  3.595595e-04  1.735789e-18   \n",
       "min    0.000000e+00    0.141707   -0.169837 -1.262195e-06 -1.000000e-02   \n",
       "25%    5.079500e-10    0.141707   -0.093911 -9.488106e-07 -1.000000e-02   \n",
       "50%    2.709191e-09    0.141707   -0.060309 -9.488029e-07 -1.000000e-02   \n",
       "75%    8.165045e-09    0.143308    0.000290 -9.487056e-07 -1.000000e-02   \n",
       "max    1.050000e-05    0.245066    0.003861  1.541330e-03 -1.000000e-02   \n",
       "\n",
       "            I(comp)  \n",
       "count  8.150000e+02  \n",
       "mean  -1.178906e-06  \n",
       "std    1.537556e-06  \n",
       "min   -3.759232e-06  \n",
       "25%   -3.474191e-06  \n",
       "50%   -8.791611e-08  \n",
       "75%   -6.460267e-09  \n",
       "max   -1.137342e-10  "
      ]
     },
     "execution_count": 8,
     "metadata": {},
     "output_type": "execute_result"
    }
   ],
   "source": [
    "data.describe()"
   ]
  },
  {
   "cell_type": "code",
   "execution_count": 14,
   "metadata": {},
   "outputs": [
    {
     "data": {
      "text/plain": [
       "Time          float64\n",
       "V(compout)    float64\n",
       "V(input)      float64\n",
       "V(out)        float64\n",
       "V(ref)        float64\n",
       "I(comp)       float64\n",
       "dtype: object"
      ]
     },
     "execution_count": 14,
     "metadata": {},
     "output_type": "execute_result"
    }
   ],
   "source": [
    "plt.close(\"all\")\n",
    "df = pd.DataFrame(data)\n",
    "df.dtypes"
   ]
  },
  {
   "cell_type": "code",
   "execution_count": 56,
   "metadata": {},
   "outputs": [
    {
     "data": {
      "text/plain": [
       "<matplotlib.legend.Legend at 0x7fcd8e115dc0>"
      ]
     },
     "execution_count": 56,
     "metadata": {},
     "output_type": "execute_result"
    },
    {
     "data": {
      "image/png": "[encoded data removed]",
      "text/plain": [
       "<Figure size 640x480 with 1 Axes>"
      ]
     },
     "metadata": {},
     "output_type": "display_data"
    }
   ],
   "source": [
    "newdf = df.truncate(after=605)\n",
    "fig, ax = plt.subplots()\n",
    "\n",
    "x = newdf[\"Time\"]\n",
    "y1 = newdf[\"V(input)\"]\n",
    "y2 = newdf[\"V(compout)\"]\n",
    "y3 = newdf[\"V(ref)\"]\n",
    "\n",
    "\n",
    "ax.plot(x,y1, 'g-', label='V(Input)')\n",
    "ax.plot(x,y2, 'b-', label='V(compout)')\n",
    "ax.plot(x,y3, 'r-', label='V(ref)')\n",
    "plt.title('Comparator Response')\n",
    "plt.ylabel(\"Voltage\")\n",
    "plt.xlabel(\"Time (ns)\")\n",
    "plt.legend()\n"
   ]
  },
  {
   "cell_type": "code",
   "execution_count": 60,
   "metadata": {},
   "outputs": [],
   "source": [
    "def LabelPeaks_ShrinkData( xvalues, yvalues, lowerxlim, upperxlim, lowerylim): \n",
    "    ''' Takes: Original bulk data (x,y) and limits to truncate the data\n",
    "        Returns: The desired peaks and the truncated data (xnew,ynew)'''\n",
    "    #Find bin x-values to associated local y-Max values\n",
    "    peaks, _ = find_peaks(yvalues, distance=5)\n",
    "\n",
    "    # width_full = peak_widths(xvalues, peaks, rel_height=1)\n",
    "    # width_half = peak_widths(xvalues, peaks, rel_height=0.5)\n",
    "    #Label the associated y-Max values\n",
    "    all_ymax = yvalues[peaks]\n",
    "\n",
    "    #forloop/zip: This applies the truncation on the Peak values ONlY\n",
    "    #For p value our zip set (bin,intensity)\n",
    "    #if: select the range of peaks we want\n",
    "    #and: select the limit of intensity values\n",
    "    tru_peaks = [p for (p,y) in zip(peaks,all_ymax) if ((p >= lowerxlim and p<= upperxlim) and y >= lowerylim)]\n",
    "\n",
    "    # Truncate the data to make the peak values \n",
    "    new_yvalues =[]\n",
    "    new_xvalues =[]\n",
    "    for n in xvalues: \n",
    "        if n >= lowerxlim and n <= upperxlim:\n",
    "            new_xvalues.append(n)\n",
    "            new_yvalues.append(yvalues[n])\n",
    "        else: \n",
    "            continue\n",
    "    return tru_peaks, new_xvalues, new_yvalues\n",
    "\n",
    "\n",
    "def Plots(x, y, title, xlabel, ylabel, xrange = [ -1 , -1 ] , yrange = [ -1 , -1 ], figsize0 = 'a', figsize1 = 'a'):\n",
    "    '''Plots anything but plots Intensities really well'''\n",
    "    \n",
    "    plt.style.use(astropy_mpl_style)\n",
    "    hfont = {'fontname':'Consolas'}\n",
    "\n",
    "    #style plot\n",
    "    if figsize0 != 'a' and figsize1 != 'a': \n",
    "        print(f'Ratio set : ({figsize0}, {figsize1})')\n",
    "        fig, axes = plt.subplots(figsize= (figsize0,figsize1))\n",
    "        \n",
    "    elif figsize0 == 'a' and figsize1 == 'a': \n",
    "        print('Data ratio set')\n",
    "        fig, axes = plt.subplots()\n",
    "        if yrange == [ -1 , -1 ] :\n",
    "            yspan = max(y) - min(y)\n",
    "            yrange =[ min(y) - yspan/10. , max(y) + yspan/10. ]\n",
    "            plt.ylim( yrange )\n",
    "        if xrange == [ -1 , -1 ] :\n",
    "            xspan = max(x) - min(x)\n",
    "            xrange = [ min(x) - xspan/10. , max(x) + xspan/10. ]\n",
    "            plt.xlim( xrange )\n",
    "\n",
    "    #plot\n",
    "    axes.plot(x, y, label= 'File Data', color='blue')\n",
    "\n",
    "    #labels\n",
    "    axes.set_title(title, **hfont)\n",
    "    axes.set_ylabel(ylabel, **hfont)\n",
    "    axes.set_xlabel(xlabel, **hfont)\n",
    "    return "
   ]
  },
  {
   "cell_type": "code",
   "execution_count": 87,
   "metadata": {},
   "outputs": [
    {
     "name": "stdout",
     "output_type": "stream",
     "text": [
      "[0.1433945 0.245066 ]\n"
     ]
    }
   ],
   "source": [
    "peaks, _ = find_peaks(y2.to_numpy(), distance=5)\n",
    "VComp = y2.to_numpy()\n",
    "Vpeak = VComp[peaks]\n",
    "print(Vpeak)"
   ]
  }
 ],
 "metadata": {
  "kernelspec": {
   "display_name": ".venv",
   "language": "python",
   "name": "python3"
  },
  "language_info": {
   "codemirror_mode": {
    "name": "ipython",
    "version": 3
   },
   "file_extension": ".py",
   "mimetype": "text/x-python",
   "name": "python",
   "nbconvert_exporter": "python",
   "pygments_lexer": "ipython3",
   "version": "3.8.10"
  },
  "orig_nbformat": 4
 },
 "nbformat": 4,
 "nbformat_minor": 2
}
