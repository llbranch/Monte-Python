{
 "cells": [
  {
   "cell_type": "markdown",
   "metadata": {},
   "source": [
    "# Multiprocessing Basics \n",
    "- Following [PyMOTW-3](https://pymotw.com/3/multiprocessing/basics.html)\n",
    "- package: native multiprocessing "
   ]
  },
  {
   "cell_type": "code",
   "execution_count": 6,
   "metadata": {},
   "outputs": [
    {
     "name": "stdout",
     "output_type": "stream",
     "text": [
      "Worker function\n",
      "Worker function\n",
      "Worker function\n",
      "Worker function\n",
      "5\n",
      "Worker function\n"
     ]
    }
   ],
   "source": [
    "\"\"\"Manually processing with arguments\"\"\"\n",
    "\n",
    "import multiprocessing\n",
    "\n",
    "def worker_function_v2(num): \n",
    "    \"\"\" Thread worker function \"\"\"\n",
    "    print('Worker function: ', num) # no returns \n",
    "\n",
    "if __name__ == '__main__': \n",
    "    jobs = [] \n",
    "    for i in range(5):\n",
    "        process_i = multiprocessing.Process(target=worker_function_v2, args=(i,))\n",
    "        jobs.append(process_i)\n",
    "        process_i.start()\n",
    "    \n",
    "    process_i.join()\n",
    "    \n",
    "    print(len(jobs))"
   ]
  },
  {
   "cell_type": "markdown",
   "metadata": {},
   "source": [
    "# Importable target functions \n",
    "- the child process needs to be able to import the script containing the target function \n",
    "- Wrapping the main part of the application in an check for `__main__` ensures that is is __not__  run recursively in each child as the module is imported \n",
    "- another approach \n",
    "    - import the target function from a separate script "
   ]
  },
  {
   "cell_type": "markdown",
   "metadata": {},
   "source": [
    "# Daemon Processes\n",
    "- Default: \n",
    "    - the main program will not exit until the children have exited \n",
    "- Use this if you're trying to have other processes occur while the main is executing (or something like this)\n",
    "- To use this: \n",
    "```\n",
    "d = multiprocessing.Process(target=func)\n",
    "d.daemon = True \n",
    "# processes have attribute Daemon to have it run in the background undisturbed\n",
    "\n",
    "```"
   ]
  },
  {
   "cell_type": "markdown",
   "metadata": {},
   "source": []
  },
  {
   "cell_type": "markdown",
   "metadata": {},
   "source": []
  },
  {
   "cell_type": "markdown",
   "metadata": {},
   "source": []
  }
 ],
 "metadata": {
  "kernelspec": {
   "display_name": ".venv",
   "language": "python",
   "name": "python3"
  },
  "language_info": {
   "codemirror_mode": {
    "name": "ipython",
    "version": 3
   },
   "file_extension": ".py",
   "mimetype": "text/x-python",
   "name": "python",
   "nbconvert_exporter": "python",
   "pygments_lexer": "ipython3",
   "version": "3.8.10"
  },
  "orig_nbformat": 4
 },
 "nbformat": 4,
 "nbformat_minor": 2
}
